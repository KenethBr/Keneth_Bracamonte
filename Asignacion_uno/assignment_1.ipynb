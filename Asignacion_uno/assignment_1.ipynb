{
 "cells": [
  {
   "cell_type": "markdown",
   "id": "a5257473",
   "metadata": {},
   "source": [
    "## Cargar y explorar el dataset\n",
    "\n",
    "**Instrucciones:**\n",
    "- Descarga el dataset desde el repositorio de GitHub del curso. El archivo se encuentra en `datasets/pima_indian_diabetes_dataset/cleaned_dataset.csv`.\n",
    "- Carga el dataset utilizando pandas.\n",
    "- Muestra las primeras filas (`df.head()`) del dataset.\n",
    "- Imprime la cantidad total de filas y columnas del dataset."
   ]
  },
  {
   "cell_type": "code",
   "execution_count": 5,
   "id": "f26657cf",
   "metadata": {},
   "outputs": [
    {
     "name": "stdout",
     "output_type": "stream",
     "text": [
      "   Pregnancies  Glucose  Blood Pressure  Skin Thickness  Insulin   BMI  \\\n",
      "0            0      129             110              46      130  67.1   \n",
      "1            0      180              78              63       14  59.4   \n",
      "2            3      123             100              35      240  57.3   \n",
      "3            1       88              30              42       99  55.0   \n",
      "4            0      162              76              56      100  53.2   \n",
      "\n",
      "   Diabetes Pedigree Function  Age  Outcome  \n",
      "0                       0.319   26        1  \n",
      "1                       2.420   25        1  \n",
      "2                       0.880   22        0  \n",
      "3                       0.496   26        1  \n",
      "4                       0.759   25        1  \n"
     ]
    },
    {
     "data": {
      "text/plain": [
       "'Filas: 392, Columnas: 9'"
      ]
     },
     "metadata": {},
     "output_type": "display_data"
    }
   ],
   "source": [
    "import pandas as pd\n",
    "from IPython.display import display\n",
    "\n",
    "# Cargar el dataset\n",
    "df = pd.read_csv('../Asignacion_uno/cleaned_dataset.csv')\n",
    "\n",
    "# Mostrar las primeras filas\n",
    "print(df.head())\n",
    "\n",
    "# Mostrar la cantidad total de filas y columnas\n",
    "display(f\"Filas: {df.shape[0]}, Columnas: {df.shape[1]}\")"
   ]
  },
  {
   "cell_type": "markdown",
   "id": "aa1633b9",
   "metadata": {},
   "source": [
    "## Crear función para cargar y dividir el dataset\n",
    "\n",
    "**Instrucciones:**\n",
    "- Implementa una función en Python que:\n",
    "  - Cargue el dataset limpio desde la ruta especificada.\n",
    "  - Seleccione las primeras 10 muestras como conjunto de entrenamiento.\n",
    "  - Seleccione las siguientes 10 muestras como conjunto de prueba.\n",
    "  - Devuelva por separado: `X_train`, `y_train`, `X_test`, `y_test`."
   ]
  },
  {
   "cell_type": "code",
   "execution_count": 8,
   "id": "8cd24c62",
   "metadata": {},
   "outputs": [],
   "source": [
    "import numpy as np\n",
    "\n",
    "# Tu código aquí\n",
    "def cargar_y_dividir_dataset(df):\n",
    "    # Seleccionar las primeras 10 muestras para entrenamiento\n",
    "    train = df.iloc[:10]\n",
    "    # Seleccionar las siguientes 10 muestras para prueba\n",
    "    test = df.iloc[10:20]\n",
    "    # Separar características y etiquetas\n",
    "    X_train = train.drop('Outcome', axis=1).values\n",
    "    y_train = train['Outcome'].values\n",
    "    X_test = test.drop('Outcome', axis=1).values\n",
    "    y_test = test['Outcome'].values\n",
    "    return X_train, y_train, X_test, y_test\n",
    "\n",
    "X_train, y_train, X_test, y_test = cargar_y_dividir_dataset(df)\n",
    "\n"
   ]
  },
  {
   "cell_type": "markdown",
   "id": "e41db18b",
   "metadata": {},
   "source": [
    "## Comparar con scikit-learn\n",
    "\n",
    "**Instrucciones:**\n",
    "- Utiliza `KNeighborsClassifier` de scikit-learn para entrenar y predecir sobre el mismo subconjunto de datos. Asegúrate de definir los hiperparámetros: `k=3`, distancia euclidiana y método de búsqueda fuerza bruta (`algorithm='brute'`).\n",
    "- Compara los resultados de tu implementación con los obtenidos por scikit-learn.\n",
    "- El script debe mostrar una tabla que compare el valor real de `Resultado` de cada muestra de prueba, el valor predicho por tu algoritmo y el valor predicho por scikit-learn."
   ]
  },
  {
   "cell_type": "code",
   "execution_count": 9,
   "id": "635f08c1",
   "metadata": {},
   "outputs": [
    {
     "ename": "ModuleNotFoundError",
     "evalue": "No module named 'sklearn'",
     "output_type": "error",
     "traceback": [
      "\u001b[31m---------------------------------------------------------------------------\u001b[39m",
      "\u001b[31mModuleNotFoundError\u001b[39m                       Traceback (most recent call last)",
      "\u001b[36mCell\u001b[39m\u001b[36m \u001b[39m\u001b[32mIn[9]\u001b[39m\u001b[32m, line 1\u001b[39m\n\u001b[32m----> \u001b[39m\u001b[32m1\u001b[39m \u001b[38;5;28;01mfrom\u001b[39;00m\u001b[38;5;250m \u001b[39m\u001b[34;01msklearn\u001b[39;00m\u001b[34;01m.\u001b[39;00m\u001b[34;01mneighbors\u001b[39;00m\u001b[38;5;250m \u001b[39m\u001b[38;5;28;01mimport\u001b[39;00m KNeighborsClassifier\n\u001b[32m      3\u001b[39m \u001b[38;5;66;03m# Tu código aquí\u001b[39;00m\n\u001b[32m      4\u001b[39m \n\u001b[32m      5\u001b[39m \u001b[38;5;66;03m# Entrenar el clasificador de scikit-learn\u001b[39;00m\n\u001b[32m      6\u001b[39m knn_sklearn = KNeighborsClassifier(n_neighbors=\u001b[32m3\u001b[39m, metric=\u001b[33m'\u001b[39m\u001b[33meuclidean\u001b[39m\u001b[33m'\u001b[39m, algorithm=\u001b[33m'\u001b[39m\u001b[33mbrute\u001b[39m\u001b[33m'\u001b[39m)\n",
      "\u001b[31mModuleNotFoundError\u001b[39m: No module named 'sklearn'"
     ]
    }
   ],
   "source": [
    "from sklearn.neighbors import KNeighborsClassifier\n",
    "\n",
    "# Tu código aquí\n",
    "\n",
    "# Entrenar el clasificador de scikit-learn\n",
    "knn_sklearn = KNeighborsClassifier(n_neighbors=3, metric='euclidean', algorithm='brute')\n",
    "knn_sklearn.fit(X_train, y_train)\n",
    "y_pred_sklearn = knn_sklearn.predict(X_test)\n",
    "\n",
    "# Imprimir tabla comparativa\n",
    "print(\"{:<8} {:<15} {:<10} {:<10}\".format(\"Muestra\", \"Resultado_real\", \"Propio\", \"sklearn\"))\n",
    "for idx, (real, propio, skl) in enumerate(zip(y_test, y_pred, y_pred_sklearn), 1):\n",
    "    print(\"{:<8} {:<15} {:<10} {:<10}\".format(idx, real, propio, skl))\n"
   ]
  }
 ],
 "metadata": {
  "kernelspec": {
   "display_name": ".venv",
   "language": "python",
   "name": "python3"
  },
  "language_info": {
   "codemirror_mode": {
    "name": "ipython",
    "version": 3
   },
   "file_extension": ".py",
   "mimetype": "text/x-python",
   "name": "python",
   "nbconvert_exporter": "python",
   "pygments_lexer": "ipython3",
   "version": "3.13.3"
  }
 },
 "nbformat": 4,
 "nbformat_minor": 5
}
